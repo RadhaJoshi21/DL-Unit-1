{
 "cells": [
  {
   "cell_type": "markdown",
   "metadata": {
    "id": "HA1Ze4R0V8Mk"
   },
   "source": [
    "# Neural network Tuning"
   ]
  },
  {
   "cell_type": "code",
   "execution_count": 17,
   "metadata": {
    "colab": {
     "base_uri": "https://localhost:8080/"
    },
    "executionInfo": {
     "elapsed": 8342,
     "status": "ok",
     "timestamp": 1708583275806,
     "user": {
      "displayName": "Neetu Singla",
      "userId": "02756770134638389596"
     },
     "user_tz": -330
    },
    "id": "RwPRDFIKWl40",
    "outputId": "56afa318-0181-4f3a-eb35-d1cbab0e9c2b"
   },
   "outputs": [
    {
     "name": "stdout",
     "output_type": "stream",
     "text": [
      "Defaulting to user installation because normal site-packages is not writeable\n",
      "Requirement already satisfied: scikeras in c:\\users\\srija\\appdata\\roaming\\python\\python312\\site-packages (0.13.0)\n",
      "Requirement already satisfied: keras>=3.2.0 in c:\\users\\srija\\appdata\\roaming\\python\\python312\\site-packages (from scikeras) (3.8.0)\n",
      "Requirement already satisfied: scikit-learn>=1.4.2 in c:\\users\\srija\\appdata\\roaming\\python\\python312\\site-packages (from scikeras) (1.5.1)\n",
      "Requirement already satisfied: absl-py in c:\\users\\srija\\appdata\\roaming\\python\\python312\\site-packages (from keras>=3.2.0->scikeras) (2.1.0)\n",
      "Requirement already satisfied: numpy in c:\\users\\srija\\appdata\\roaming\\python\\python312\\site-packages (from keras>=3.2.0->scikeras) (2.0.2)\n",
      "Requirement already satisfied: rich in c:\\users\\srija\\appdata\\roaming\\python\\python312\\site-packages (from keras>=3.2.0->scikeras) (13.9.4)\n",
      "Requirement already satisfied: namex in c:\\users\\srija\\appdata\\roaming\\python\\python312\\site-packages (from keras>=3.2.0->scikeras) (0.0.8)\n",
      "Requirement already satisfied: h5py in c:\\users\\srija\\appdata\\roaming\\python\\python312\\site-packages (from keras>=3.2.0->scikeras) (3.12.1)\n",
      "Requirement already satisfied: optree in c:\\users\\srija\\appdata\\roaming\\python\\python312\\site-packages (from keras>=3.2.0->scikeras) (0.14.0)\n",
      "Requirement already satisfied: ml-dtypes in c:\\users\\srija\\appdata\\roaming\\python\\python312\\site-packages (from keras>=3.2.0->scikeras) (0.4.1)\n",
      "Requirement already satisfied: packaging in c:\\users\\srija\\appdata\\roaming\\python\\python312\\site-packages (from keras>=3.2.0->scikeras) (24.1)\n",
      "Requirement already satisfied: scipy>=1.6.0 in c:\\users\\srija\\appdata\\roaming\\python\\python312\\site-packages (from scikit-learn>=1.4.2->scikeras) (1.14.1)\n",
      "Requirement already satisfied: joblib>=1.2.0 in c:\\users\\srija\\appdata\\roaming\\python\\python312\\site-packages (from scikit-learn>=1.4.2->scikeras) (1.4.2)\n",
      "Requirement already satisfied: threadpoolctl>=3.1.0 in c:\\users\\srija\\appdata\\roaming\\python\\python312\\site-packages (from scikit-learn>=1.4.2->scikeras) (3.5.0)\n",
      "Requirement already satisfied: typing-extensions>=4.5.0 in c:\\users\\srija\\appdata\\roaming\\python\\python312\\site-packages (from optree->keras>=3.2.0->scikeras) (4.12.2)\n",
      "Requirement already satisfied: markdown-it-py>=2.2.0 in c:\\users\\srija\\appdata\\roaming\\python\\python312\\site-packages (from rich->keras>=3.2.0->scikeras) (3.0.0)\n",
      "Requirement already satisfied: pygments<3.0.0,>=2.13.0 in c:\\users\\srija\\appdata\\roaming\\python\\python312\\site-packages (from rich->keras>=3.2.0->scikeras) (2.18.0)\n",
      "Requirement already satisfied: mdurl~=0.1 in c:\\users\\srija\\appdata\\roaming\\python\\python312\\site-packages (from markdown-it-py>=2.2.0->rich->keras>=3.2.0->scikeras) (0.1.2)\n"
     ]
    },
    {
     "name": "stderr",
     "output_type": "stream",
     "text": [
      "\n",
      "[notice] A new release of pip is available: 25.0 -> 25.0.1\n",
      "[notice] To update, run: python.exe -m pip install --upgrade pip\n"
     ]
    },
    {
     "name": "stdout",
     "output_type": "stream",
     "text": [
      "Found existing installation: scikit-learn 1.5.1\n",
      "Uninstalling scikit-learn-1.5.1:\n",
      "  Successfully uninstalled scikit-learn-1.5.1\n"
     ]
    },
    {
     "name": "stderr",
     "output_type": "stream",
     "text": [
      "WARNING: Failed to remove contents in a temporary directory 'C:\\Users\\srija\\AppData\\Roaming\\Python\\Python312\\site-packages\\~klearn'.\n",
      "You can safely remove it manually.\n"
     ]
    },
    {
     "name": "stdout",
     "output_type": "stream",
     "text": [
      "^C\n"
     ]
    },
    {
     "name": "stdout",
     "output_type": "stream",
     "text": [
      "Defaulting to user installation because normal site-packages is not writeable\n",
      "Collecting scikit-learn==1.3.1\n",
      "  Downloading scikit_learn-1.3.1-cp312-cp312-win_amd64.whl.metadata (11 kB)\n",
      "Collecting numpy<2.0,>=1.17.3 (from scikit-learn==1.3.1)\n",
      "  Downloading numpy-1.26.4-cp312-cp312-win_amd64.whl.metadata (61 kB)\n",
      "Requirement already satisfied: scipy>=1.5.0 in c:\\users\\srija\\appdata\\roaming\\python\\python312\\site-packages (from scikit-learn==1.3.1) (1.14.1)\n",
      "Requirement already satisfied: joblib>=1.1.1 in c:\\users\\srija\\appdata\\roaming\\python\\python312\\site-packages (from scikit-learn==1.3.1) (1.4.2)\n",
      "Requirement already satisfied: threadpoolctl>=2.0.0 in c:\\users\\srija\\appdata\\roaming\\python\\python312\\site-packages (from scikit-learn==1.3.1) (3.5.0)\n",
      "Downloading scikit_learn-1.3.1-cp312-cp312-win_amd64.whl (9.1 MB)\n",
      "   ---------------------------------------- 0.0/9.1 MB ? eta -:--:--\n",
      "   ---------------------------------------- 0.0/9.1 MB ? eta -:--:--\n",
      "   - -------------------------------------- 0.3/9.1 MB ? eta -:--:--\n",
      "   -- ------------------------------------- 0.5/9.1 MB 1.1 MB/s eta 0:00:08\n",
      "   --- ------------------------------------ 0.8/9.1 MB 1.2 MB/s eta 0:00:07\n",
      "   --- ------------------------------------ 0.8/9.1 MB 1.2 MB/s eta 0:00:07\n",
      "   ---- ----------------------------------- 1.0/9.1 MB 1.0 MB/s eta 0:00:08\n",
      "   ---- ----------------------------------- 1.0/9.1 MB 1.0 MB/s eta 0:00:08\n",
      "   ----- ---------------------------------- 1.3/9.1 MB 883.4 kB/s eta 0:00:09\n",
      "   ----- ---------------------------------- 1.3/9.1 MB 883.4 kB/s eta 0:00:09\n",
      "   ------ --------------------------------- 1.6/9.1 MB 762.9 kB/s eta 0:00:10\n",
      "   ------ --------------------------------- 1.6/9.1 MB 762.9 kB/s eta 0:00:10\n",
      "   ------ --------------------------------- 1.6/9.1 MB 762.9 kB/s eta 0:00:10\n",
      "   -------- ------------------------------- 1.8/9.1 MB 704.1 kB/s eta 0:00:11\n",
      "   -------- ------------------------------- 1.8/9.1 MB 704.1 kB/s eta 0:00:11\n",
      "   --------- ------------------------------ 2.1/9.1 MB 707.7 kB/s eta 0:00:10\n",
      "   --------- ------------------------------ 2.1/9.1 MB 707.7 kB/s eta 0:00:10\n",
      "   --------- ------------------------------ 2.1/9.1 MB 707.7 kB/s eta 0:00:10\n",
      "   --------- ------------------------------ 2.1/9.1 MB 707.7 kB/s eta 0:00:10\n",
      "   ---------- ----------------------------- 2.4/9.1 MB 612.8 kB/s eta 0:00:12\n",
      "   ---------- ----------------------------- 2.4/9.1 MB 612.8 kB/s eta 0:00:12\n",
      "   ---------- ----------------------------- 2.4/9.1 MB 612.8 kB/s eta 0:00:12\n",
      "   ----------- ---------------------------- 2.6/9.1 MB 572.0 kB/s eta 0:00:12\n",
      "   ----------- ---------------------------- 2.6/9.1 MB 572.0 kB/s eta 0:00:12\n",
      "   ------------ --------------------------- 2.9/9.1 MB 565.0 kB/s eta 0:00:12\n",
      "   ------------ --------------------------- 2.9/9.1 MB 565.0 kB/s eta 0:00:12\n",
      "   ------------- -------------------------- 3.1/9.1 MB 582.2 kB/s eta 0:00:11\n",
      "   -------------- ------------------------- 3.4/9.1 MB 601.0 kB/s eta 0:00:10\n",
      "   -------------- ------------------------- 3.4/9.1 MB 601.0 kB/s eta 0:00:10\n",
      "   -------------- ------------------------- 3.4/9.1 MB 601.0 kB/s eta 0:00:10\n",
      "   ---------------- ----------------------- 3.7/9.1 MB 578.6 kB/s eta 0:00:10\n",
      "   ---------------- ----------------------- 3.7/9.1 MB 578.6 kB/s eta 0:00:10\n",
      "   ----------------- ---------------------- 3.9/9.1 MB 585.8 kB/s eta 0:00:09\n",
      "   ----------------- ---------------------- 3.9/9.1 MB 585.8 kB/s eta 0:00:09\n",
      "   ----------------- ---------------------- 3.9/9.1 MB 585.8 kB/s eta 0:00:09\n",
      "   ------------------ --------------------- 4.2/9.1 MB 581.2 kB/s eta 0:00:09\n",
      "   ------------------ --------------------- 4.2/9.1 MB 581.2 kB/s eta 0:00:09\n",
      "   ------------------- -------------------- 4.5/9.1 MB 576.1 kB/s eta 0:00:09\n",
      "   ------------------- -------------------- 4.5/9.1 MB 576.1 kB/s eta 0:00:09\n",
      "   ------------------- -------------------- 4.5/9.1 MB 576.1 kB/s eta 0:00:09\n",
      "   -------------------- ------------------- 4.7/9.1 MB 569.3 kB/s eta 0:00:08\n",
      "   -------------------- ------------------- 4.7/9.1 MB 569.3 kB/s eta 0:00:08\n",
      "   -------------------- ------------------- 4.7/9.1 MB 569.3 kB/s eta 0:00:08\n",
      "   -------------------- ------------------- 4.7/9.1 MB 569.3 kB/s eta 0:00:08\n",
      "   --------------------- ------------------ 5.0/9.1 MB 544.1 kB/s eta 0:00:08\n",
      "   --------------------- ------------------ 5.0/9.1 MB 544.1 kB/s eta 0:00:08\n",
      "   --------------------- ------------------ 5.0/9.1 MB 544.1 kB/s eta 0:00:08\n",
      "   --------------------- ------------------ 5.0/9.1 MB 544.1 kB/s eta 0:00:08\n",
      "   ---------------------- ----------------- 5.2/9.1 MB 519.2 kB/s eta 0:00:08\n",
      "   ---------------------- ----------------- 5.2/9.1 MB 519.2 kB/s eta 0:00:08\n",
      "   ---------------------- ----------------- 5.2/9.1 MB 519.2 kB/s eta 0:00:08\n",
      "   ------------------------ --------------- 5.5/9.1 MB 512.3 kB/s eta 0:00:08\n",
      "   ------------------------ --------------- 5.5/9.1 MB 512.3 kB/s eta 0:00:08\n",
      "   ------------------------ --------------- 5.5/9.1 MB 512.3 kB/s eta 0:00:08\n",
      "   ------------------------- -------------- 5.8/9.1 MB 510.6 kB/s eta 0:00:07\n",
      "   ------------------------- -------------- 5.8/9.1 MB 510.6 kB/s eta 0:00:07\n",
      "   -------------------------- ------------- 6.0/9.1 MB 514.8 kB/s eta 0:00:07\n",
      "   --------------------------- ------------ 6.3/9.1 MB 525.0 kB/s eta 0:00:06\n",
      "   ---------------------------- ----------- 6.6/9.1 MB 536.2 kB/s eta 0:00:05\n",
      "   ---------------------------- ----------- 6.6/9.1 MB 536.2 kB/s eta 0:00:05\n",
      "   ----------------------------- ---------- 6.8/9.1 MB 545.5 kB/s eta 0:00:05\n",
      "   ------------------------------ --------- 7.1/9.1 MB 552.2 kB/s eta 0:00:04\n",
      "   ------------------------------ --------- 7.1/9.1 MB 552.2 kB/s eta 0:00:04\n",
      "   -------------------------------- ------- 7.3/9.1 MB 560.0 kB/s eta 0:00:04\n",
      "   --------------------------------- ------ 7.6/9.1 MB 570.1 kB/s eta 0:00:03\n",
      "   --------------------------------- ------ 7.6/9.1 MB 570.1 kB/s eta 0:00:03\n",
      "   ---------------------------------- ----- 7.9/9.1 MB 567.1 kB/s eta 0:00:03\n",
      "   ---------------------------------- ----- 7.9/9.1 MB 567.1 kB/s eta 0:00:03\n",
      "   ---------------------------------- ----- 7.9/9.1 MB 567.1 kB/s eta 0:00:03\n",
      "   ---------------------------------- ----- 7.9/9.1 MB 567.1 kB/s eta 0:00:03\n",
      "   ----------------------------------- ---- 8.1/9.1 MB 557.4 kB/s eta 0:00:02\n",
      "   ----------------------------------- ---- 8.1/9.1 MB 557.4 kB/s eta 0:00:02\n",
      "   ------------------------------------ --- 8.4/9.1 MB 554.5 kB/s eta 0:00:02\n",
      "   ------------------------------------ --- 8.4/9.1 MB 554.5 kB/s eta 0:00:02\n",
      "   ------------------------------------- -- 8.7/9.1 MB 557.5 kB/s eta 0:00:01\n",
      "   ------------------------------------- -- 8.7/9.1 MB 557.5 kB/s eta 0:00:01\n",
      "   ------------------------------------- -- 8.7/9.1 MB 557.5 kB/s eta 0:00:01\n",
      "   ---------------------------------------  8.9/9.1 MB 551.5 kB/s eta 0:00:01\n",
      "   ---------------------------------------  8.9/9.1 MB 551.5 kB/s eta 0:00:01\n",
      "   ---------------------------------------- 9.1/9.1 MB 552.3 kB/s eta 0:00:00\n",
      "Downloading numpy-1.26.4-cp312-cp312-win_amd64.whl (15.5 MB)\n",
      "   ---------------------------------------- 0.0/15.5 MB ? eta -:--:--\n",
      "   ---------------------------------------- 0.0/15.5 MB ? eta -:--:--\n",
      "   ---------------------------------------- 0.0/15.5 MB ? eta -:--:--\n",
      "    --------------------------------------- 0.3/15.5 MB ? eta -:--:--\n",
      "   - -------------------------------------- 0.5/15.5 MB 762.0 kB/s eta 0:00:20\n",
      "   - -------------------------------------- 0.5/15.5 MB 762.0 kB/s eta 0:00:20\n",
      "   -- ------------------------------------- 0.8/15.5 MB 762.0 kB/s eta 0:00:20\n",
      "   -- ------------------------------------- 0.8/15.5 MB 762.0 kB/s eta 0:00:20\n",
      "   -- ------------------------------------- 1.0/15.5 MB 774.0 kB/s eta 0:00:19\n",
      "   --- ------------------------------------ 1.3/15.5 MB 762.6 kB/s eta 0:00:19\n",
      "   --- ------------------------------------ 1.3/15.5 MB 762.6 kB/s eta 0:00:19\n",
      "   ---- ----------------------------------- 1.6/15.5 MB 762.5 kB/s eta 0:00:19\n",
      "   ---- ----------------------------------- 1.6/15.5 MB 762.5 kB/s eta 0:00:19\n",
      "   ---- ----------------------------------- 1.6/15.5 MB 762.5 kB/s eta 0:00:19\n",
      "   ---- ----------------------------------- 1.6/15.5 MB 762.5 kB/s eta 0:00:19\n",
      "   ---- ----------------------------------- 1.6/15.5 MB 762.5 kB/s eta 0:00:19\n",
      "   ---- ----------------------------------- 1.8/15.5 MB 559.1 kB/s eta 0:00:25\n",
      "   ---- ----------------------------------- 1.8/15.5 MB 559.1 kB/s eta 0:00:25\n",
      "   ---- ----------------------------------- 1.8/15.5 MB 559.1 kB/s eta 0:00:25\n",
      "   ---- ----------------------------------- 1.8/15.5 MB 559.1 kB/s eta 0:00:25\n",
      "   ---- ----------------------------------- 1.8/15.5 MB 559.1 kB/s eta 0:00:25\n",
      "   ----- ---------------------------------- 2.1/15.5 MB 493.4 kB/s eta 0:00:28\n",
      "   ----- ---------------------------------- 2.1/15.5 MB 493.4 kB/s eta 0:00:28\n",
      "   ------ --------------------------------- 2.4/15.5 MB 486.2 kB/s eta 0:00:28\n",
      "   ------ --------------------------------- 2.4/15.5 MB 486.2 kB/s eta 0:00:28\n",
      "   ------ --------------------------------- 2.4/15.5 MB 486.2 kB/s eta 0:00:28\n",
      "   ------ --------------------------------- 2.6/15.5 MB 495.0 kB/s eta 0:00:27\n",
      "   ------- -------------------------------- 2.9/15.5 MB 514.6 kB/s eta 0:00:25\n",
      "   ------- -------------------------------- 2.9/15.5 MB 514.6 kB/s eta 0:00:25\n",
      "   -------- ------------------------------- 3.1/15.5 MB 533.3 kB/s eta 0:00:24\n",
      "   -------- ------------------------------- 3.4/15.5 MB 550.0 kB/s eta 0:00:23\n",
      "   -------- ------------------------------- 3.4/15.5 MB 550.0 kB/s eta 0:00:23\n",
      "   --------- ------------------------------ 3.7/15.5 MB 560.6 kB/s eta 0:00:22\n",
      "   ---------- ----------------------------- 3.9/15.5 MB 584.2 kB/s eta 0:00:20\n",
      "   ---------- ----------------------------- 4.2/15.5 MB 602.0 kB/s eta 0:00:19\n",
      "   ----------- ---------------------------- 4.5/15.5 MB 624.2 kB/s eta 0:00:18\n",
      "   ------------ --------------------------- 4.7/15.5 MB 648.2 kB/s eta 0:00:17\n",
      "   ------------ --------------------------- 5.0/15.5 MB 656.5 kB/s eta 0:00:17\n",
      "   ------------- -------------------------- 5.2/15.5 MB 675.4 kB/s eta 0:00:16\n",
      "   -------------- ------------------------- 5.5/15.5 MB 699.0 kB/s eta 0:00:15\n",
      "   -------------- ------------------------- 5.8/15.5 MB 719.0 kB/s eta 0:00:14\n",
      "   --------------- ------------------------ 6.0/15.5 MB 733.7 kB/s eta 0:00:13\n",
      "   ---------------- ----------------------- 6.6/15.5 MB 761.1 kB/s eta 0:00:12\n",
      "   ---------------- ----------------------- 6.6/15.5 MB 761.1 kB/s eta 0:00:12\n",
      "   ----------------- ---------------------- 6.8/15.5 MB 765.3 kB/s eta 0:00:12\n",
      "   ------------------ --------------------- 7.3/15.5 MB 800.3 kB/s eta 0:00:11\n",
      "   ------------------- -------------------- 7.6/15.5 MB 816.9 kB/s eta 0:00:10\n",
      "   -------------------- ------------------- 8.1/15.5 MB 848.7 kB/s eta 0:00:09\n",
      "   -------------------- ------------------- 8.1/15.5 MB 848.7 kB/s eta 0:00:09\n",
      "   --------------------- ------------------ 8.4/15.5 MB 845.6 kB/s eta 0:00:09\n",
      "   ---------------------- ----------------- 8.7/15.5 MB 846.7 kB/s eta 0:00:09\n",
      "   ---------------------- ----------------- 8.9/15.5 MB 862.3 kB/s eta 0:00:08\n",
      "   ------------------------ --------------- 9.4/15.5 MB 887.0 kB/s eta 0:00:07\n",
      "   ------------------------- -------------- 9.7/15.5 MB 901.4 kB/s eta 0:00:07\n",
      "   ------------------------- -------------- 10.0/15.5 MB 903.5 kB/s eta 0:00:07\n",
      "   -------------------------- ------------- 10.2/15.5 MB 913.3 kB/s eta 0:00:06\n",
      "   --------------------------- ------------ 10.5/15.5 MB 922.8 kB/s eta 0:00:06\n",
      "   --------------------------- ------------ 10.5/15.5 MB 922.8 kB/s eta 0:00:06\n",
      "   --------------------------- ------------ 10.7/15.5 MB 914.3 kB/s eta 0:00:06\n",
      "   ----------------------------- ---------- 11.3/15.5 MB 933.3 kB/s eta 0:00:05\n",
      "   ----------------------------- ---------- 11.5/15.5 MB 941.8 kB/s eta 0:00:05\n",
      "   ----------------------------- ---------- 11.5/15.5 MB 941.8 kB/s eta 0:00:05\n",
      "   ------------------------------ --------- 11.8/15.5 MB 930.9 kB/s eta 0:00:04\n",
      "   ------------------------------ --------- 11.8/15.5 MB 930.9 kB/s eta 0:00:04\n",
      "   ------------------------------ --------- 11.8/15.5 MB 930.9 kB/s eta 0:00:04\n",
      "   ------------------------------- -------- 12.1/15.5 MB 907.4 kB/s eta 0:00:04\n",
      "   ------------------------------- -------- 12.3/15.5 MB 911.1 kB/s eta 0:00:04\n",
      "   ------------------------------- -------- 12.3/15.5 MB 911.1 kB/s eta 0:00:04\n",
      "   --------------------------------- ------ 12.8/15.5 MB 917.2 kB/s eta 0:00:03\n",
      "   --------------------------------- ------ 13.1/15.5 MB 926.8 kB/s eta 0:00:03\n",
      "   ---------------------------------- ----- 13.4/15.5 MB 931.0 kB/s eta 0:00:03\n",
      "   ----------------------------------- ---- 13.6/15.5 MB 934.1 kB/s eta 0:00:03\n",
      "   ----------------------------------- ---- 13.9/15.5 MB 939.1 kB/s eta 0:00:02\n",
      "   ----------------------------------- ---- 13.9/15.5 MB 939.1 kB/s eta 0:00:02\n",
      "   ------------------------------------ --- 14.2/15.5 MB 929.1 kB/s eta 0:00:02\n",
      "   ------------------------------------ --- 14.2/15.5 MB 929.1 kB/s eta 0:00:02\n",
      "   ------------------------------------ --- 14.2/15.5 MB 929.1 kB/s eta 0:00:02\n",
      "   ------------------------------------- -- 14.4/15.5 MB 917.9 kB/s eta 0:00:02\n",
      "   ------------------------------------- -- 14.4/15.5 MB 917.9 kB/s eta 0:00:02\n",
      "   ------------------------------------- -- 14.4/15.5 MB 917.9 kB/s eta 0:00:02\n",
      "   ------------------------------------- -- 14.7/15.5 MB 898.5 kB/s eta 0:00:01\n",
      "   -------------------------------------- - 14.9/15.5 MB 900.8 kB/s eta 0:00:01\n",
      "   -------------------------------------- - 14.9/15.5 MB 900.8 kB/s eta 0:00:01\n",
      "   -------------------------------------- - 14.9/15.5 MB 900.8 kB/s eta 0:00:01\n",
      "   ---------------------------------------  15.2/15.5 MB 887.1 kB/s eta 0:00:01\n",
      "   ---------------------------------------  15.2/15.5 MB 887.1 kB/s eta 0:00:01\n",
      "   ---------------------------------------  15.5/15.5 MB 875.8 kB/s eta 0:00:01\n",
      "   ---------------------------------------- 15.5/15.5 MB 871.7 kB/s eta 0:00:00\n",
      "Installing collected packages: numpy, scikit-learn\n",
      "  Attempting uninstall: numpy\n",
      "    Found existing installation: numpy 2.0.2\n",
      "    Uninstalling numpy-2.0.2:\n",
      "      Successfully uninstalled numpy-2.0.2\n",
      "Successfully installed numpy-1.26.4 scikit-learn-1.3.1\n"
     ]
    },
    {
     "name": "stderr",
     "output_type": "stream",
     "text": [
      "  WARNING: Failed to remove contents in a temporary directory 'C:\\Users\\srija\\AppData\\Roaming\\Python\\Python312\\site-packages\\~umpy.libs'.\n",
      "  You can safely remove it manually.\n",
      "  WARNING: Failed to remove contents in a temporary directory 'C:\\Users\\srija\\AppData\\Roaming\\Python\\Python312\\site-packages\\~umpy'.\n",
      "  You can safely remove it manually.\n",
      "ERROR: pip's dependency resolver does not currently take into account all the packages that are installed. This behaviour is the source of the following dependency conflicts.\n",
      "whisper-openai 1.0.0 requires torch, which is not installed.\n",
      "scikeras 0.13.0 requires scikit-learn>=1.4.2, but you have scikit-learn 1.3.1 which is incompatible.\n",
      "\n",
      "[notice] A new release of pip is available: 25.0 -> 25.0.1\n",
      "[notice] To update, run: python.exe -m pip install --upgrade pip\n"
     ]
    }
   ],
   "source": [
    "!pip install scikeras\n",
    "!pip uninstall -y scikit-learn\n",
    "!pip install scikit-learn==1.3.1"
   ]
  },
  {
   "cell_type": "code",
   "execution_count": 2,
   "metadata": {
    "executionInfo": {
     "elapsed": 6867,
     "status": "ok",
     "timestamp": 1708583282663,
     "user": {
      "displayName": "Neetu Singla",
      "userId": "02756770134638389596"
     },
     "user_tz": -330
    },
    "id": "GdhTk431V8Mp"
   },
   "outputs": [],
   "source": [
    "# Importing necesary packages\n",
    "import numpy\n",
    "import pandas as pd\n",
    "from sklearn.model_selection import GridSearchCV\n",
    "from keras.models import Sequential\n",
    "from keras.layers import Dense\n",
    "import warnings\n",
    "warnings.filterwarnings('ignore')\n",
    "from scikeras.wrappers import KerasClassifier"
   ]
  },
  {
   "cell_type": "markdown",
   "metadata": {
    "id": "Tip0jhlQV8Mp"
   },
   "source": [
    "# part 1 - Tuning batch and epoch"
   ]
  },
  {
   "cell_type": "code",
   "execution_count": 3,
   "metadata": {
    "executionInfo": {
     "elapsed": 71,
     "status": "ok",
     "timestamp": 1708583444664,
     "user": {
      "displayName": "Neetu Singla",
      "userId": "02756770134638389596"
     },
     "user_tz": -330
    },
    "id": "CCe9ZoF6V8Mq"
   },
   "outputs": [],
   "source": [
    "# load the dataset for India diabetes\n",
    "data = pd.read_csv('diabetes.csv')"
   ]
  },
  {
   "cell_type": "code",
   "execution_count": 4,
   "metadata": {
    "colab": {
     "base_uri": "https://localhost:8080/",
     "height": 206
    },
    "executionInfo": {
     "elapsed": 71,
     "status": "ok",
     "timestamp": 1708583444665,
     "user": {
      "displayName": "Neetu Singla",
      "userId": "02756770134638389596"
     },
     "user_tz": -330
    },
    "id": "fk24PWYLV8Mr",
    "outputId": "eb71035e-174b-46c7-f0de-269b1b30e0e7"
   },
   "outputs": [
    {
     "data": {
      "text/html": [
       "<div>\n",
       "<style scoped>\n",
       "    .dataframe tbody tr th:only-of-type {\n",
       "        vertical-align: middle;\n",
       "    }\n",
       "\n",
       "    .dataframe tbody tr th {\n",
       "        vertical-align: top;\n",
       "    }\n",
       "\n",
       "    .dataframe thead th {\n",
       "        text-align: right;\n",
       "    }\n",
       "</style>\n",
       "<table border=\"1\" class=\"dataframe\">\n",
       "  <thead>\n",
       "    <tr style=\"text-align: right;\">\n",
       "      <th></th>\n",
       "      <th>Pregnancies</th>\n",
       "      <th>Glucose</th>\n",
       "      <th>BloodPressure</th>\n",
       "      <th>SkinThickness</th>\n",
       "      <th>Insulin</th>\n",
       "      <th>BMI</th>\n",
       "      <th>DiabetesPedigreeFunction</th>\n",
       "      <th>Age</th>\n",
       "      <th>Outcome</th>\n",
       "    </tr>\n",
       "  </thead>\n",
       "  <tbody>\n",
       "    <tr>\n",
       "      <th>0</th>\n",
       "      <td>6</td>\n",
       "      <td>148</td>\n",
       "      <td>72</td>\n",
       "      <td>35</td>\n",
       "      <td>0</td>\n",
       "      <td>33.6</td>\n",
       "      <td>0.627</td>\n",
       "      <td>50</td>\n",
       "      <td>1</td>\n",
       "    </tr>\n",
       "    <tr>\n",
       "      <th>1</th>\n",
       "      <td>1</td>\n",
       "      <td>85</td>\n",
       "      <td>66</td>\n",
       "      <td>29</td>\n",
       "      <td>0</td>\n",
       "      <td>26.6</td>\n",
       "      <td>0.351</td>\n",
       "      <td>31</td>\n",
       "      <td>0</td>\n",
       "    </tr>\n",
       "    <tr>\n",
       "      <th>2</th>\n",
       "      <td>8</td>\n",
       "      <td>183</td>\n",
       "      <td>64</td>\n",
       "      <td>0</td>\n",
       "      <td>0</td>\n",
       "      <td>23.3</td>\n",
       "      <td>0.672</td>\n",
       "      <td>32</td>\n",
       "      <td>1</td>\n",
       "    </tr>\n",
       "    <tr>\n",
       "      <th>3</th>\n",
       "      <td>1</td>\n",
       "      <td>89</td>\n",
       "      <td>66</td>\n",
       "      <td>23</td>\n",
       "      <td>94</td>\n",
       "      <td>28.1</td>\n",
       "      <td>0.167</td>\n",
       "      <td>21</td>\n",
       "      <td>0</td>\n",
       "    </tr>\n",
       "    <tr>\n",
       "      <th>4</th>\n",
       "      <td>0</td>\n",
       "      <td>137</td>\n",
       "      <td>40</td>\n",
       "      <td>35</td>\n",
       "      <td>168</td>\n",
       "      <td>43.1</td>\n",
       "      <td>2.288</td>\n",
       "      <td>33</td>\n",
       "      <td>1</td>\n",
       "    </tr>\n",
       "  </tbody>\n",
       "</table>\n",
       "</div>"
      ],
      "text/plain": [
       "   Pregnancies  Glucose  BloodPressure  SkinThickness  Insulin   BMI  \\\n",
       "0            6      148             72             35        0  33.6   \n",
       "1            1       85             66             29        0  26.6   \n",
       "2            8      183             64              0        0  23.3   \n",
       "3            1       89             66             23       94  28.1   \n",
       "4            0      137             40             35      168  43.1   \n",
       "\n",
       "   DiabetesPedigreeFunction  Age  Outcome  \n",
       "0                     0.627   50        1  \n",
       "1                     0.351   31        0  \n",
       "2                     0.672   32        1  \n",
       "3                     0.167   21        0  \n",
       "4                     2.288   33        1  "
      ]
     },
     "execution_count": 4,
     "metadata": {},
     "output_type": "execute_result"
    }
   ],
   "source": [
    "#viewing data\n",
    "data.head()"
   ]
  },
  {
   "cell_type": "code",
   "execution_count": 5,
   "metadata": {
    "executionInfo": {
     "elapsed": 69,
     "status": "ok",
     "timestamp": 1708583444665,
     "user": {
      "displayName": "Neetu Singla",
      "userId": "02756770134638389596"
     },
     "user_tz": -330
    },
    "id": "s4ZRPieMV8Mr"
   },
   "outputs": [],
   "source": [
    "# split into predictors and response\n",
    "X = data.iloc[:,0:8] #predictors\n",
    "Y = data.iloc[:,8] #response"
   ]
  },
  {
   "cell_type": "code",
   "execution_count": 6,
   "metadata": {
    "executionInfo": {
     "elapsed": 69,
     "status": "ok",
     "timestamp": 1708583444665,
     "user": {
      "displayName": "Neetu Singla",
      "userId": "02756770134638389596"
     },
     "user_tz": -330
    },
    "id": "6sKtQSY4V8Mr"
   },
   "outputs": [],
   "source": [
    "# Function to create model,for KerasClassifier\n",
    "def create_my_model():\n",
    "    #defining my model\n",
    "    mymodel = Sequential()\n",
    "    mymodel.add(Dense(12, input_dim=8, activation='relu'))\n",
    "    mymodel.add(Dense(1, activation='sigmoid'))\n",
    "\n",
    "    # Compile the model\n",
    "    mymodel.compile(loss='binary_crossentropy', optimizer='adam', metrics=['accuracy'])\n",
    "    return mymodel"
   ]
  },
  {
   "cell_type": "markdown",
   "metadata": {
    "id": "8bbfq4HjXn8N"
   },
   "source": [
    "To use KerasClassifier with GridSearchCV, we need to define a Keras model as a function and pass it to the KerasClassifier."
   ]
  },
  {
   "cell_type": "code",
   "execution_count": 7,
   "metadata": {
    "executionInfo": {
     "elapsed": 69,
     "status": "ok",
     "timestamp": 1708583444666,
     "user": {
      "displayName": "Neetu Singla",
      "userId": "02756770134638389596"
     },
     "user_tz": -330
    },
    "id": "QjwkM4TlV8Ms"
   },
   "outputs": [],
   "source": [
    "# create model\n",
    "model = KerasClassifier(build_fn=create_my_model)"
   ]
  },
  {
   "cell_type": "code",
   "execution_count": 8,
   "metadata": {
    "executionInfo": {
     "elapsed": 69,
     "status": "ok",
     "timestamp": 1708583444666,
     "user": {
      "displayName": "Neetu Singla",
      "userId": "02756770134638389596"
     },
     "user_tz": -330
    },
    "id": "a1qif9_wV8Ms"
   },
   "outputs": [],
   "source": [
    "# define the grid search parameters\n",
    "batchSize = [10, 20, 40, 60, 80, 100]\n",
    "epochs = [10, 30, 50]"
   ]
  },
  {
   "cell_type": "markdown",
   "metadata": {
    "id": "C6jx_wmXX11Q"
   },
   "source": [
    "GridSearchCV is a function from the scikit-learn library in Python used for hyperparameter tuning of machine learning models."
   ]
  },
  {
   "cell_type": "markdown",
   "metadata": {
    "id": "wUyoXT2TX89J"
   },
   "source": [
    "The GridSearchCV function takes as input a machine learning model (estimator), a dictionary of hyperparameters to search over (param_grid), and optionally other parameters like cross-validation strategy (cv), scoring method (scoring), and more."
   ]
  },
  {
   "cell_type": "code",
   "execution_count": 9,
   "metadata": {
    "colab": {
     "base_uri": "https://localhost:8080/"
    },
    "executionInfo": {
     "elapsed": 115254,
     "status": "ok",
     "timestamp": 1708583559852,
     "user": {
      "displayName": "Neetu Singla",
      "userId": "02756770134638389596"
     },
     "user_tz": -330
    },
    "id": "ATjw4epoV8Mt",
    "outputId": "48979a65-38bb-4076-8891-b87e41e7686c"
   },
   "outputs": [
    {
     "name": "stdout",
     "output_type": "stream",
     "text": [
      "Epoch 1/50\n",
      "\u001b[1m20/20\u001b[0m \u001b[32m━━━━━━━━━━━━━━━━━━━━\u001b[0m\u001b[37m\u001b[0m \u001b[1m1s\u001b[0m 2ms/step - accuracy: 0.3465 - loss: 12.1551   \n",
      "Epoch 2/50\n",
      "\u001b[1m20/20\u001b[0m \u001b[32m━━━━━━━━━━━━━━━━━━━━\u001b[0m\u001b[37m\u001b[0m \u001b[1m0s\u001b[0m 2ms/step - accuracy: 0.4386 - loss: 6.1346 \n",
      "Epoch 3/50\n",
      "\u001b[1m20/20\u001b[0m \u001b[32m━━━━━━━━━━━━━━━━━━━━\u001b[0m\u001b[37m\u001b[0m \u001b[1m0s\u001b[0m 2ms/step - accuracy: 0.4681 - loss: 4.3731 \n",
      "Epoch 4/50\n",
      "\u001b[1m20/20\u001b[0m \u001b[32m━━━━━━━━━━━━━━━━━━━━\u001b[0m\u001b[37m\u001b[0m \u001b[1m0s\u001b[0m 2ms/step - accuracy: 0.4516 - loss: 3.3070 \n",
      "Epoch 5/50\n",
      "\u001b[1m20/20\u001b[0m \u001b[32m━━━━━━━━━━━━━━━━━━━━\u001b[0m\u001b[37m\u001b[0m \u001b[1m0s\u001b[0m 2ms/step - accuracy: 0.5174 - loss: 2.5288 \n",
      "Epoch 6/50\n",
      "\u001b[1m20/20\u001b[0m \u001b[32m━━━━━━━━━━━━━━━━━━━━\u001b[0m\u001b[37m\u001b[0m \u001b[1m0s\u001b[0m 2ms/step - accuracy: 0.5357 - loss: 2.2186 \n",
      "Epoch 7/50\n",
      "\u001b[1m20/20\u001b[0m \u001b[32m━━━━━━━━━━━━━━━━━━━━\u001b[0m\u001b[37m\u001b[0m \u001b[1m0s\u001b[0m 2ms/step - accuracy: 0.6046 - loss: 1.6266 \n",
      "Epoch 8/50\n",
      "\u001b[1m20/20\u001b[0m \u001b[32m━━━━━━━━━━━━━━━━━━━━\u001b[0m\u001b[37m\u001b[0m \u001b[1m0s\u001b[0m 2ms/step - accuracy: 0.5499 - loss: 1.6274 \n",
      "Epoch 9/50\n",
      "\u001b[1m20/20\u001b[0m \u001b[32m━━━━━━━━━━━━━━━━━━━━\u001b[0m\u001b[37m\u001b[0m \u001b[1m0s\u001b[0m 2ms/step - accuracy: 0.6322 - loss: 1.3749 \n",
      "Epoch 10/50\n",
      "\u001b[1m20/20\u001b[0m \u001b[32m━━━━━━━━━━━━━━━━━━━━\u001b[0m\u001b[37m\u001b[0m \u001b[1m0s\u001b[0m 2ms/step - accuracy: 0.6071 - loss: 1.3568 \n",
      "Epoch 11/50\n",
      "\u001b[1m20/20\u001b[0m \u001b[32m━━━━━━━━━━━━━━━━━━━━\u001b[0m\u001b[37m\u001b[0m \u001b[1m0s\u001b[0m 2ms/step - accuracy: 0.6169 - loss: 1.2551 \n",
      "Epoch 12/50\n",
      "\u001b[1m20/20\u001b[0m \u001b[32m━━━━━━━━━━━━━━━━━━━━\u001b[0m\u001b[37m\u001b[0m \u001b[1m0s\u001b[0m 2ms/step - accuracy: 0.6175 - loss: 1.1365 \n",
      "Epoch 13/50\n",
      "\u001b[1m20/20\u001b[0m \u001b[32m━━━━━━━━━━━━━━━━━━━━\u001b[0m\u001b[37m\u001b[0m \u001b[1m0s\u001b[0m 2ms/step - accuracy: 0.6268 - loss: 1.2253 \n",
      "Epoch 14/50\n",
      "\u001b[1m20/20\u001b[0m \u001b[32m━━━━━━━━━━━━━━━━━━━━\u001b[0m\u001b[37m\u001b[0m \u001b[1m0s\u001b[0m 2ms/step - accuracy: 0.6631 - loss: 1.0477 \n",
      "Epoch 15/50\n",
      "\u001b[1m20/20\u001b[0m \u001b[32m━━━━━━━━━━━━━━━━━━━━\u001b[0m\u001b[37m\u001b[0m \u001b[1m0s\u001b[0m 2ms/step - accuracy: 0.6341 - loss: 1.0107 \n",
      "Epoch 16/50\n",
      "\u001b[1m20/20\u001b[0m \u001b[32m━━━━━━━━━━━━━━━━━━━━\u001b[0m\u001b[37m\u001b[0m \u001b[1m0s\u001b[0m 2ms/step - accuracy: 0.6534 - loss: 0.9856 \n",
      "Epoch 17/50\n",
      "\u001b[1m20/20\u001b[0m \u001b[32m━━━━━━━━━━━━━━━━━━━━\u001b[0m\u001b[37m\u001b[0m \u001b[1m0s\u001b[0m 2ms/step - accuracy: 0.6266 - loss: 0.9941 \n",
      "Epoch 18/50\n",
      "\u001b[1m20/20\u001b[0m \u001b[32m━━━━━━━━━━━━━━━━━━━━\u001b[0m\u001b[37m\u001b[0m \u001b[1m0s\u001b[0m 2ms/step - accuracy: 0.6757 - loss: 0.8244 \n",
      "Epoch 19/50\n",
      "\u001b[1m20/20\u001b[0m \u001b[32m━━━━━━━━━━━━━━━━━━━━\u001b[0m\u001b[37m\u001b[0m \u001b[1m0s\u001b[0m 2ms/step - accuracy: 0.6747 - loss: 0.9078 \n",
      "Epoch 20/50\n",
      "\u001b[1m20/20\u001b[0m \u001b[32m━━━━━━━━━━━━━━━━━━━━\u001b[0m\u001b[37m\u001b[0m \u001b[1m0s\u001b[0m 2ms/step - accuracy: 0.6582 - loss: 0.8921 \n",
      "Epoch 21/50\n",
      "\u001b[1m20/20\u001b[0m \u001b[32m━━━━━━━━━━━━━━━━━━━━\u001b[0m\u001b[37m\u001b[0m \u001b[1m0s\u001b[0m 2ms/step - accuracy: 0.6320 - loss: 0.9150 \n",
      "Epoch 22/50\n",
      "\u001b[1m20/20\u001b[0m \u001b[32m━━━━━━━━━━━━━━━━━━━━\u001b[0m\u001b[37m\u001b[0m \u001b[1m0s\u001b[0m 2ms/step - accuracy: 0.6894 - loss: 0.8009 \n",
      "Epoch 23/50\n",
      "\u001b[1m20/20\u001b[0m \u001b[32m━━━━━━━━━━━━━━━━━━━━\u001b[0m\u001b[37m\u001b[0m \u001b[1m0s\u001b[0m 2ms/step - accuracy: 0.6496 - loss: 0.8462 \n",
      "Epoch 24/50\n",
      "\u001b[1m20/20\u001b[0m \u001b[32m━━━━━━━━━━━━━━━━━━━━\u001b[0m\u001b[37m\u001b[0m \u001b[1m0s\u001b[0m 2ms/step - accuracy: 0.6473 - loss: 0.8140 \n",
      "Epoch 25/50\n",
      "\u001b[1m20/20\u001b[0m \u001b[32m━━━━━━━━━━━━━━━━━━━━\u001b[0m\u001b[37m\u001b[0m \u001b[1m0s\u001b[0m 2ms/step - accuracy: 0.6519 - loss: 0.7625 \n",
      "Epoch 26/50\n",
      "\u001b[1m20/20\u001b[0m \u001b[32m━━━━━━━━━━━━━━━━━━━━\u001b[0m\u001b[37m\u001b[0m \u001b[1m0s\u001b[0m 2ms/step - accuracy: 0.6801 - loss: 0.7671 \n",
      "Epoch 27/50\n",
      "\u001b[1m20/20\u001b[0m \u001b[32m━━━━━━━━━━━━━━━━━━━━\u001b[0m\u001b[37m\u001b[0m \u001b[1m0s\u001b[0m 2ms/step - accuracy: 0.6271 - loss: 0.8283 \n",
      "Epoch 28/50\n",
      "\u001b[1m20/20\u001b[0m \u001b[32m━━━━━━━━━━━━━━━━━━━━\u001b[0m\u001b[37m\u001b[0m \u001b[1m0s\u001b[0m 2ms/step - accuracy: 0.6497 - loss: 0.8011 \n",
      "Epoch 29/50\n",
      "\u001b[1m20/20\u001b[0m \u001b[32m━━━━━━━━━━━━━━━━━━━━\u001b[0m\u001b[37m\u001b[0m \u001b[1m0s\u001b[0m 2ms/step - accuracy: 0.6536 - loss: 0.7482 \n",
      "Epoch 30/50\n",
      "\u001b[1m20/20\u001b[0m \u001b[32m━━━━━━━━━━━━━━━━━━━━\u001b[0m\u001b[37m\u001b[0m \u001b[1m0s\u001b[0m 2ms/step - accuracy: 0.6514 - loss: 0.7771 \n",
      "Epoch 31/50\n",
      "\u001b[1m20/20\u001b[0m \u001b[32m━━━━━━━━━━━━━━━━━━━━\u001b[0m\u001b[37m\u001b[0m \u001b[1m0s\u001b[0m 2ms/step - accuracy: 0.6736 - loss: 0.7620 \n",
      "Epoch 32/50\n",
      "\u001b[1m20/20\u001b[0m \u001b[32m━━━━━━━━━━━━━━━━━━━━\u001b[0m\u001b[37m\u001b[0m \u001b[1m0s\u001b[0m 2ms/step - accuracy: 0.6579 - loss: 0.7704 \n",
      "Epoch 33/50\n",
      "\u001b[1m20/20\u001b[0m \u001b[32m━━━━━━━━━━━━━━━━━━━━\u001b[0m\u001b[37m\u001b[0m \u001b[1m0s\u001b[0m 2ms/step - accuracy: 0.6782 - loss: 0.7031 \n",
      "Epoch 34/50\n",
      "\u001b[1m20/20\u001b[0m \u001b[32m━━━━━━━━━━━━━━━━━━━━\u001b[0m\u001b[37m\u001b[0m \u001b[1m0s\u001b[0m 2ms/step - accuracy: 0.6689 - loss: 0.6990 \n",
      "Epoch 35/50\n",
      "\u001b[1m20/20\u001b[0m \u001b[32m━━━━━━━━━━━━━━━━━━━━\u001b[0m\u001b[37m\u001b[0m \u001b[1m0s\u001b[0m 2ms/step - accuracy: 0.6661 - loss: 0.7025 \n",
      "Epoch 36/50\n",
      "\u001b[1m20/20\u001b[0m \u001b[32m━━━━━━━━━━━━━━━━━━━━\u001b[0m\u001b[37m\u001b[0m \u001b[1m0s\u001b[0m 2ms/step - accuracy: 0.7035 - loss: 0.6585 \n",
      "Epoch 37/50\n",
      "\u001b[1m20/20\u001b[0m \u001b[32m━━━━━━━━━━━━━━━━━━━━\u001b[0m\u001b[37m\u001b[0m \u001b[1m0s\u001b[0m 2ms/step - accuracy: 0.6539 - loss: 0.7329 \n",
      "Epoch 38/50\n",
      "\u001b[1m20/20\u001b[0m \u001b[32m━━━━━━━━━━━━━━━━━━━━\u001b[0m\u001b[37m\u001b[0m \u001b[1m0s\u001b[0m 2ms/step - accuracy: 0.6873 - loss: 0.6804 \n",
      "Epoch 39/50\n",
      "\u001b[1m20/20\u001b[0m \u001b[32m━━━━━━━━━━━━━━━━━━━━\u001b[0m\u001b[37m\u001b[0m \u001b[1m0s\u001b[0m 2ms/step - accuracy: 0.6935 - loss: 0.6457 \n",
      "Epoch 40/50\n",
      "\u001b[1m20/20\u001b[0m \u001b[32m━━━━━━━━━━━━━━━━━━━━\u001b[0m\u001b[37m\u001b[0m \u001b[1m0s\u001b[0m 2ms/step - accuracy: 0.6510 - loss: 0.7188 \n",
      "Epoch 41/50\n",
      "\u001b[1m20/20\u001b[0m \u001b[32m━━━━━━━━━━━━━━━━━━━━\u001b[0m\u001b[37m\u001b[0m \u001b[1m0s\u001b[0m 2ms/step - accuracy: 0.7001 - loss: 0.6252 \n",
      "Epoch 42/50\n",
      "\u001b[1m20/20\u001b[0m \u001b[32m━━━━━━━━━━━━━━━━━━━━\u001b[0m\u001b[37m\u001b[0m \u001b[1m0s\u001b[0m 2ms/step - accuracy: 0.6707 - loss: 0.6859 \n",
      "Epoch 43/50\n",
      "\u001b[1m20/20\u001b[0m \u001b[32m━━━━━━━━━━━━━━━━━━━━\u001b[0m\u001b[37m\u001b[0m \u001b[1m0s\u001b[0m 2ms/step - accuracy: 0.6690 - loss: 0.6808 \n",
      "Epoch 44/50\n",
      "\u001b[1m20/20\u001b[0m \u001b[32m━━━━━━━━━━━━━━━━━━━━\u001b[0m\u001b[37m\u001b[0m \u001b[1m0s\u001b[0m 2ms/step - accuracy: 0.7035 - loss: 0.6415 \n",
      "Epoch 45/50\n",
      "\u001b[1m20/20\u001b[0m \u001b[32m━━━━━━━━━━━━━━━━━━━━\u001b[0m\u001b[37m\u001b[0m \u001b[1m0s\u001b[0m 2ms/step - accuracy: 0.6773 - loss: 0.6676 \n",
      "Epoch 46/50\n",
      "\u001b[1m20/20\u001b[0m \u001b[32m━━━━━━━━━━━━━━━━━━━━\u001b[0m\u001b[37m\u001b[0m \u001b[1m0s\u001b[0m 2ms/step - accuracy: 0.6750 - loss: 0.6620 \n",
      "Epoch 47/50\n",
      "\u001b[1m20/20\u001b[0m \u001b[32m━━━━━━━━━━━━━━━━━━━━\u001b[0m\u001b[37m\u001b[0m \u001b[1m0s\u001b[0m 2ms/step - accuracy: 0.7146 - loss: 0.6133 \n",
      "Epoch 48/50\n",
      "\u001b[1m20/20\u001b[0m \u001b[32m━━━━━━━━━━━━━━━━━━━━\u001b[0m\u001b[37m\u001b[0m \u001b[1m0s\u001b[0m 2ms/step - accuracy: 0.6890 - loss: 0.6521 \n",
      "Epoch 49/50\n",
      "\u001b[1m20/20\u001b[0m \u001b[32m━━━━━━━━━━━━━━━━━━━━\u001b[0m\u001b[37m\u001b[0m \u001b[1m0s\u001b[0m 2ms/step - accuracy: 0.7027 - loss: 0.6419 \n",
      "Epoch 50/50\n",
      "\u001b[1m20/20\u001b[0m \u001b[32m━━━━━━━━━━━━━━━━━━━━\u001b[0m\u001b[37m\u001b[0m \u001b[1m0s\u001b[0m 2ms/step - accuracy: 0.6842 - loss: 0.6638 \n"
     ]
    }
   ],
   "source": [
    "parameter_grid = dict(batch_size=batchSize, epochs=epochs)\n",
    "\n",
    "\n",
    "mygrid = GridSearchCV(estimator=model, param_grid=parameter_grid, n_jobs=-1, cv=3)\n",
    "grid_result = mygrid.fit(X, Y)"
   ]
  },
  {
   "cell_type": "code",
   "execution_count": 10,
   "metadata": {
    "colab": {
     "base_uri": "https://localhost:8080/"
    },
    "executionInfo": {
     "elapsed": 27,
     "status": "ok",
     "timestamp": 1708583559853,
     "user": {
      "displayName": "Neetu Singla",
      "userId": "02756770134638389596"
     },
     "user_tz": -330
    },
    "id": "s1oSJgo6V8Mt",
    "outputId": "3c31e208-6ed2-4e07-dc2c-1250ed669ddd"
   },
   "outputs": [
    {
     "name": "stdout",
     "output_type": "stream",
     "text": [
      "Best: 0.686198 using {'batch_size': 40, 'epochs': 50}\n"
     ]
    }
   ],
   "source": [
    "# summarize results\n",
    "print(\"Best: %f using %s\" % (grid_result.best_score_, grid_result.best_params_))"
   ]
  },
  {
   "cell_type": "markdown",
   "metadata": {
    "id": "S5sVkibmV8Mu"
   },
   "source": [
    "# part 2- Optimizing Activation Function"
   ]
  },
  {
   "cell_type": "code",
   "execution_count": 11,
   "metadata": {
    "executionInfo": {
     "elapsed": 22,
     "status": "ok",
     "timestamp": 1708583559853,
     "user": {
      "displayName": "Neetu Singla",
      "userId": "02756770134638389596"
     },
     "user_tz": -330
    },
    "id": "Br8Xhv4rV8Mu"
   },
   "outputs": [],
   "source": [
    "# Function to create model\n",
    "def create_my_model(optimizer='adam'):\n",
    "    # create model\n",
    "    mymodel = Sequential()\n",
    "    mymodel.add(Dense(12, input_dim=8, activation='relu'))\n",
    "    mymodel.add(Dense(1, activation='sigmoid'))\n",
    "    # Compile model\n",
    "    mymodel.compile(loss='binary_crossentropy', optimizer=optimizer, metrics=['accuracy'])\n",
    "    return mymodel"
   ]
  },
  {
   "cell_type": "code",
   "execution_count": 12,
   "metadata": {
    "executionInfo": {
     "elapsed": 21,
     "status": "ok",
     "timestamp": 1708583559853,
     "user": {
      "displayName": "Neetu Singla",
      "userId": "02756770134638389596"
     },
     "user_tz": -330
    },
    "id": "pRfwHoTIV8Mv"
   },
   "outputs": [],
   "source": [
    "# create model\n",
    "model = KerasClassifier(build_fn=create_my_model, epochs=50, batch_size=10)"
   ]
  },
  {
   "cell_type": "code",
   "execution_count": 13,
   "metadata": {
    "executionInfo": {
     "elapsed": 21,
     "status": "ok",
     "timestamp": 1708583559854,
     "user": {
      "displayName": "Neetu Singla",
      "userId": "02756770134638389596"
     },
     "user_tz": -330
    },
    "id": "F2iZZIFHV8Mv"
   },
   "outputs": [],
   "source": [
    "# define the grid search parameters\n",
    "optimizer = ['SGD','Adadelta', 'RMSprop', 'Adagrad','Adam']\n",
    "parameter_grid = dict(optimizer=optimizer)"
   ]
  },
  {
   "cell_type": "code",
   "execution_count": 14,
   "metadata": {
    "colab": {
     "base_uri": "https://localhost:8080/"
    },
    "executionInfo": {
     "elapsed": 93643,
     "status": "ok",
     "timestamp": 1708583653476,
     "user": {
      "displayName": "Neetu Singla",
      "userId": "02756770134638389596"
     },
     "user_tz": -330
    },
    "id": "DgZ4QzBUV8Mv",
    "outputId": "2646cf6f-7ad1-4ce4-abb6-20a6d2e9fe3c"
   },
   "outputs": [
    {
     "name": "stdout",
     "output_type": "stream",
     "text": [
      "Epoch 1/50\n",
      "\u001b[1m77/77\u001b[0m \u001b[32m━━━━━━━━━━━━━━━━━━━━\u001b[0m\u001b[37m\u001b[0m \u001b[1m1s\u001b[0m 1ms/step - accuracy: 0.4300 - loss: 12.0966  \n",
      "Epoch 2/50\n",
      "\u001b[1m77/77\u001b[0m \u001b[32m━━━━━━━━━━━━━━━━━━━━\u001b[0m\u001b[37m\u001b[0m \u001b[1m0s\u001b[0m 1000us/step - accuracy: 0.5384 - loss: 4.6052\n",
      "Epoch 3/50\n",
      "\u001b[1m77/77\u001b[0m \u001b[32m━━━━━━━━━━━━━━━━━━━━\u001b[0m\u001b[37m\u001b[0m \u001b[1m0s\u001b[0m 1ms/step - accuracy: 0.6550 - loss: 2.3477  \n",
      "Epoch 4/50\n",
      "\u001b[1m77/77\u001b[0m \u001b[32m━━━━━━━━━━━━━━━━━━━━\u001b[0m\u001b[37m\u001b[0m \u001b[1m0s\u001b[0m 1ms/step - accuracy: 0.6601 - loss: 1.6590  \n",
      "Epoch 5/50\n",
      "\u001b[1m77/77\u001b[0m \u001b[32m━━━━━━━━━━━━━━━━━━━━\u001b[0m\u001b[37m\u001b[0m \u001b[1m0s\u001b[0m 1ms/step - accuracy: 0.6179 - loss: 1.8596  \n",
      "Epoch 6/50\n",
      "\u001b[1m77/77\u001b[0m \u001b[32m━━━━━━━━━━━━━━━━━━━━\u001b[0m\u001b[37m\u001b[0m \u001b[1m0s\u001b[0m 1ms/step - accuracy: 0.6767 - loss: 1.3770  \n",
      "Epoch 7/50\n",
      "\u001b[1m77/77\u001b[0m \u001b[32m━━━━━━━━━━━━━━━━━━━━\u001b[0m\u001b[37m\u001b[0m \u001b[1m0s\u001b[0m 1ms/step - accuracy: 0.6474 - loss: 1.4458  \n",
      "Epoch 8/50\n",
      "\u001b[1m77/77\u001b[0m \u001b[32m━━━━━━━━━━━━━━━━━━━━\u001b[0m\u001b[37m\u001b[0m \u001b[1m0s\u001b[0m 1000us/step - accuracy: 0.6047 - loss: 1.4419\n",
      "Epoch 9/50\n",
      "\u001b[1m77/77\u001b[0m \u001b[32m━━━━━━━━━━━━━━━━━━━━\u001b[0m\u001b[37m\u001b[0m \u001b[1m0s\u001b[0m 1ms/step - accuracy: 0.6315 - loss: 1.1669  \n",
      "Epoch 10/50\n",
      "\u001b[1m77/77\u001b[0m \u001b[32m━━━━━━━━━━━━━━━━━━━━\u001b[0m\u001b[37m\u001b[0m \u001b[1m0s\u001b[0m 1ms/step - accuracy: 0.6453 - loss: 1.0521  \n",
      "Epoch 11/50\n",
      "\u001b[1m77/77\u001b[0m \u001b[32m━━━━━━━━━━━━━━━━━━━━\u001b[0m\u001b[37m\u001b[0m \u001b[1m0s\u001b[0m 1000us/step - accuracy: 0.6626 - loss: 0.9891\n",
      "Epoch 12/50\n",
      "\u001b[1m77/77\u001b[0m \u001b[32m━━━━━━━━━━━━━━━━━━━━\u001b[0m\u001b[37m\u001b[0m \u001b[1m0s\u001b[0m 1ms/step - accuracy: 0.6082 - loss: 0.9797  \n",
      "Epoch 13/50\n",
      "\u001b[1m77/77\u001b[0m \u001b[32m━━━━━━━━━━━━━━━━━━━━\u001b[0m\u001b[37m\u001b[0m \u001b[1m0s\u001b[0m 1ms/step - accuracy: 0.6477 - loss: 1.0298  \n",
      "Epoch 14/50\n",
      "\u001b[1m77/77\u001b[0m \u001b[32m━━━━━━━━━━━━━━━━━━━━\u001b[0m\u001b[37m\u001b[0m \u001b[1m0s\u001b[0m 1ms/step - accuracy: 0.6233 - loss: 0.9051  \n",
      "Epoch 15/50\n",
      "\u001b[1m77/77\u001b[0m \u001b[32m━━━━━━━━━━━━━━━━━━━━\u001b[0m\u001b[37m\u001b[0m \u001b[1m0s\u001b[0m 1000us/step - accuracy: 0.6575 - loss: 0.9073\n",
      "Epoch 16/50\n",
      "\u001b[1m77/77\u001b[0m \u001b[32m━━━━━━━━━━━━━━━━━━━━\u001b[0m\u001b[37m\u001b[0m \u001b[1m0s\u001b[0m 1ms/step - accuracy: 0.6718 - loss: 0.8130\n",
      "Epoch 17/50\n",
      "\u001b[1m77/77\u001b[0m \u001b[32m━━━━━━━━━━━━━━━━━━━━\u001b[0m\u001b[37m\u001b[0m \u001b[1m0s\u001b[0m 987us/step - accuracy: 0.6301 - loss: 0.9569\n",
      "Epoch 18/50\n",
      "\u001b[1m77/77\u001b[0m \u001b[32m━━━━━━━━━━━━━━━━━━━━\u001b[0m\u001b[37m\u001b[0m \u001b[1m0s\u001b[0m 987us/step - accuracy: 0.6447 - loss: 0.7866\n",
      "Epoch 19/50\n",
      "\u001b[1m77/77\u001b[0m \u001b[32m━━━━━━━━━━━━━━━━━━━━\u001b[0m\u001b[37m\u001b[0m \u001b[1m0s\u001b[0m 1ms/step - accuracy: 0.7059 - loss: 0.7499  \n",
      "Epoch 20/50\n",
      "\u001b[1m77/77\u001b[0m \u001b[32m━━━━━━━━━━━━━━━━━━━━\u001b[0m\u001b[37m\u001b[0m \u001b[1m0s\u001b[0m 961us/step - accuracy: 0.6370 - loss: 0.8184\n",
      "Epoch 21/50\n",
      "\u001b[1m77/77\u001b[0m \u001b[32m━━━━━━━━━━━━━━━━━━━━\u001b[0m\u001b[37m\u001b[0m \u001b[1m0s\u001b[0m 947us/step - accuracy: 0.6266 - loss: 0.7702\n",
      "Epoch 22/50\n",
      "\u001b[1m77/77\u001b[0m \u001b[32m━━━━━━━━━━━━━━━━━━━━\u001b[0m\u001b[37m\u001b[0m \u001b[1m0s\u001b[0m 987us/step - accuracy: 0.6421 - loss: 0.8113\n",
      "Epoch 23/50\n",
      "\u001b[1m77/77\u001b[0m \u001b[32m━━━━━━━━━━━━━━━━━━━━\u001b[0m\u001b[37m\u001b[0m \u001b[1m0s\u001b[0m 947us/step - accuracy: 0.6880 - loss: 0.7568\n",
      "Epoch 24/50\n",
      "\u001b[1m77/77\u001b[0m \u001b[32m━━━━━━━━━━━━━━━━━━━━\u001b[0m\u001b[37m\u001b[0m \u001b[1m0s\u001b[0m 947us/step - accuracy: 0.6591 - loss: 0.7287\n",
      "Epoch 25/50\n",
      "\u001b[1m77/77\u001b[0m \u001b[32m━━━━━━━━━━━━━━━━━━━━\u001b[0m\u001b[37m\u001b[0m \u001b[1m0s\u001b[0m 934us/step - accuracy: 0.6886 - loss: 0.7013\n",
      "Epoch 26/50\n",
      "\u001b[1m77/77\u001b[0m \u001b[32m━━━━━━━━━━━━━━━━━━━━\u001b[0m\u001b[37m\u001b[0m \u001b[1m0s\u001b[0m 934us/step - accuracy: 0.6847 - loss: 0.6645\n",
      "Epoch 27/50\n",
      "\u001b[1m77/77\u001b[0m \u001b[32m━━━━━━━━━━━━━━━━━━━━\u001b[0m\u001b[37m\u001b[0m \u001b[1m0s\u001b[0m 1ms/step - accuracy: 0.6814 - loss: 0.7017  \n",
      "Epoch 28/50\n",
      "\u001b[1m77/77\u001b[0m \u001b[32m━━━━━━━━━━━━━━━━━━━━\u001b[0m\u001b[37m\u001b[0m \u001b[1m0s\u001b[0m 1ms/step - accuracy: 0.6568 - loss: 0.6710  \n",
      "Epoch 29/50\n",
      "\u001b[1m77/77\u001b[0m \u001b[32m━━━━━━━━━━━━━━━━━━━━\u001b[0m\u001b[37m\u001b[0m \u001b[1m0s\u001b[0m 987us/step - accuracy: 0.6618 - loss: 0.6823\n",
      "Epoch 30/50\n",
      "\u001b[1m77/77\u001b[0m \u001b[32m━━━━━━━━━━━━━━━━━━━━\u001b[0m\u001b[37m\u001b[0m \u001b[1m0s\u001b[0m 961us/step - accuracy: 0.6780 - loss: 0.6925\n",
      "Epoch 31/50\n",
      "\u001b[1m77/77\u001b[0m \u001b[32m━━━━━━━━━━━━━━━━━━━━\u001b[0m\u001b[37m\u001b[0m \u001b[1m0s\u001b[0m 1ms/step - accuracy: 0.6596 - loss: 0.7219  \n",
      "Epoch 32/50\n",
      "\u001b[1m77/77\u001b[0m \u001b[32m━━━━━━━━━━━━━━━━━━━━\u001b[0m\u001b[37m\u001b[0m \u001b[1m0s\u001b[0m 921us/step - accuracy: 0.6834 - loss: 0.7146\n",
      "Epoch 33/50\n",
      "\u001b[1m77/77\u001b[0m \u001b[32m━━━━━━━━━━━━━━━━━━━━\u001b[0m\u001b[37m\u001b[0m \u001b[1m0s\u001b[0m 926us/step - accuracy: 0.7045 - loss: 0.6243\n",
      "Epoch 34/50\n",
      "\u001b[1m77/77\u001b[0m \u001b[32m━━━━━━━━━━━━━━━━━━━━\u001b[0m\u001b[37m\u001b[0m \u001b[1m0s\u001b[0m 1ms/step - accuracy: 0.6677 - loss: 0.6850  \n",
      "Epoch 35/50\n",
      "\u001b[1m77/77\u001b[0m \u001b[32m━━━━━━━━━━━━━━━━━━━━\u001b[0m\u001b[37m\u001b[0m \u001b[1m0s\u001b[0m 987us/step - accuracy: 0.6435 - loss: 0.7336\n",
      "Epoch 36/50\n",
      "\u001b[1m77/77\u001b[0m \u001b[32m━━━━━━━━━━━━━━━━━━━━\u001b[0m\u001b[37m\u001b[0m \u001b[1m0s\u001b[0m 974us/step - accuracy: 0.6831 - loss: 0.6971\n",
      "Epoch 37/50\n",
      "\u001b[1m77/77\u001b[0m \u001b[32m━━━━━━━━━━━━━━━━━━━━\u001b[0m\u001b[37m\u001b[0m \u001b[1m0s\u001b[0m 921us/step - accuracy: 0.7329 - loss: 0.5916\n",
      "Epoch 38/50\n",
      "\u001b[1m77/77\u001b[0m \u001b[32m━━━━━━━━━━━━━━━━━━━━\u001b[0m\u001b[37m\u001b[0m \u001b[1m0s\u001b[0m 974us/step - accuracy: 0.6672 - loss: 0.6471\n",
      "Epoch 39/50\n",
      "\u001b[1m77/77\u001b[0m \u001b[32m━━━━━━━━━━━━━━━━━━━━\u001b[0m\u001b[37m\u001b[0m \u001b[1m0s\u001b[0m 1ms/step - accuracy: 0.6891 - loss: 0.6795  \n",
      "Epoch 40/50\n",
      "\u001b[1m77/77\u001b[0m \u001b[32m━━━━━━━━━━━━━━━━━━━━\u001b[0m\u001b[37m\u001b[0m \u001b[1m0s\u001b[0m 1ms/step - accuracy: 0.6939 - loss: 0.5887  \n",
      "Epoch 41/50\n",
      "\u001b[1m77/77\u001b[0m \u001b[32m━━━━━━━━━━━━━━━━━━━━\u001b[0m\u001b[37m\u001b[0m \u001b[1m0s\u001b[0m 961us/step - accuracy: 0.7041 - loss: 0.6540\n",
      "Epoch 42/50\n",
      "\u001b[1m77/77\u001b[0m \u001b[32m━━━━━━━━━━━━━━━━━━━━\u001b[0m\u001b[37m\u001b[0m \u001b[1m0s\u001b[0m 987us/step - accuracy: 0.6756 - loss: 0.6129\n",
      "Epoch 43/50\n",
      "\u001b[1m77/77\u001b[0m \u001b[32m━━━━━━━━━━━━━━━━━━━━\u001b[0m\u001b[37m\u001b[0m \u001b[1m0s\u001b[0m 974us/step - accuracy: 0.7195 - loss: 0.5935\n",
      "Epoch 44/50\n",
      "\u001b[1m77/77\u001b[0m \u001b[32m━━━━━━━━━━━━━━━━━━━━\u001b[0m\u001b[37m\u001b[0m \u001b[1m0s\u001b[0m 934us/step - accuracy: 0.7048 - loss: 0.6103\n",
      "Epoch 45/50\n",
      "\u001b[1m77/77\u001b[0m \u001b[32m━━━━━━━━━━━━━━━━━━━━\u001b[0m\u001b[37m\u001b[0m \u001b[1m0s\u001b[0m 947us/step - accuracy: 0.7113 - loss: 0.5746\n",
      "Epoch 46/50\n",
      "\u001b[1m77/77\u001b[0m \u001b[32m━━━━━━━━━━━━━━━━━━━━\u001b[0m\u001b[37m\u001b[0m \u001b[1m0s\u001b[0m 987us/step - accuracy: 0.7079 - loss: 0.5851\n",
      "Epoch 47/50\n",
      "\u001b[1m77/77\u001b[0m \u001b[32m━━━━━━━━━━━━━━━━━━━━\u001b[0m\u001b[37m\u001b[0m \u001b[1m0s\u001b[0m 1ms/step - accuracy: 0.6629 - loss: 0.6448  \n",
      "Epoch 48/50\n",
      "\u001b[1m77/77\u001b[0m \u001b[32m━━━━━━━━━━━━━━━━━━━━\u001b[0m\u001b[37m\u001b[0m \u001b[1m0s\u001b[0m 947us/step - accuracy: 0.6752 - loss: 0.6584\n",
      "Epoch 49/50\n",
      "\u001b[1m77/77\u001b[0m \u001b[32m━━━━━━━━━━━━━━━━━━━━\u001b[0m\u001b[37m\u001b[0m \u001b[1m0s\u001b[0m 961us/step - accuracy: 0.7183 - loss: 0.5735\n",
      "Epoch 50/50\n",
      "\u001b[1m77/77\u001b[0m \u001b[32m━━━━━━━━━━━━━━━━━━━━\u001b[0m\u001b[37m\u001b[0m \u001b[1m0s\u001b[0m 1ms/step - accuracy: 0.7414 - loss: 0.5582  \n"
     ]
    }
   ],
   "source": [
    "grid = GridSearchCV(estimator=model, param_grid=parameter_grid, n_jobs=-1, cv=3)\n",
    "grid_result = grid.fit(X, Y)"
   ]
  },
  {
   "cell_type": "code",
   "execution_count": 15,
   "metadata": {
    "colab": {
     "base_uri": "https://localhost:8080/"
    },
    "executionInfo": {
     "elapsed": 24,
     "status": "ok",
     "timestamp": 1708583653477,
     "user": {
      "displayName": "Neetu Singla",
      "userId": "02756770134638389596"
     },
     "user_tz": -330
    },
    "id": "7uPKO615V8Mv",
    "outputId": "87bd8117-7264-4e0e-8382-2be7ba352eda"
   },
   "outputs": [
    {
     "name": "stdout",
     "output_type": "stream",
     "text": [
      "Best: 0.683594 using {'optimizer': 'RMSprop'}\n"
     ]
    }
   ],
   "source": [
    "# summarize results\n",
    "print(\"Best: %f using %s\" % (grid_result.best_score_, grid_result.best_params_))"
   ]
  },
  {
   "cell_type": "markdown",
   "metadata": {
    "id": "NR9UQiCSV8Mv"
   },
   "source": [
    "# How can you improve accuracy of the model?"
   ]
  },
  {
   "cell_type": "code",
   "execution_count": 16,
   "metadata": {
    "executionInfo": {
     "elapsed": 22,
     "status": "ok",
     "timestamp": 1708583653477,
     "user": {
      "displayName": "Neetu Singla",
      "userId": "02756770134638389596"
     },
     "user_tz": -330
    },
    "id": "yB62rLunV8Mv"
   },
   "outputs": [],
   "source": [
    "!pip list >requirements.txt"
   ]
  },
  {
   "cell_type": "code",
   "execution_count": null,
   "metadata": {},
   "outputs": [],
   "source": []
  }
 ],
 "metadata": {
  "colab": {
   "provenance": [
    {
     "file_id": "1ct5qiRhPfQLwWf1j4S3RBeHP8vjtsSJs",
     "timestamp": 1708581203153
    }
   ]
  },
  "kernelspec": {
   "display_name": "Python 3",
   "language": "python",
   "name": "python3"
  },
  "language_info": {
   "codemirror_mode": {
    "name": "ipython",
    "version": 3
   },
   "file_extension": ".py",
   "mimetype": "text/x-python",
   "name": "python",
   "nbconvert_exporter": "python",
   "pygments_lexer": "ipython3",
   "version": "3.12.0"
  }
 },
 "nbformat": 4,
 "nbformat_minor": 0
}
